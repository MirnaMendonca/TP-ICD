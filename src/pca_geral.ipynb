{
 "cells": [
  {
   "attachments": {},
   "cell_type": "markdown",
   "metadata": {},
   "source": [
    "# __Análise de componentes principais - PCA__\n",
    "### __Analisando todas as músicas coletadas__\n",
    "\n",
    "Nessa parte do trabalho, iremos utilizar o algoritmo de análise de componentes principais conjuntamente sobre o banco de dados de músicas provenientes de três grupos: \n",
    "\n",
    "__1. Grupo 1:__ músicas famosas no TikTok, sendo esta base obtida do kaggle.\n",
    "\n",
    "__2. Grupo 2:__ músicas famosas porém não populares na plataforma do TikTok, tendo sido essas músicas coletadas pelo grupo.\n",
    "\n",
    "__2. Grupo 3:__ músicas não famosas, e que também não são populares na plataforma do TikTok, coletadas pelo grupo.\n"
   ]
  },
  {
   "cell_type": "code",
   "execution_count": 23,
   "metadata": {},
   "outputs": [],
   "source": [
    "#importando bibliotecas\n",
    "import numpy as np\n",
    "import pandas as pd\n",
    "\n",
    "import math\n",
    "\n",
    "import matplotlib.pyplot as plt\n",
    "import seaborn as sns\n",
    "%matplotlib inline"
   ]
  },
  {
   "cell_type": "code",
   "execution_count": 24,
   "metadata": {},
   "outputs": [
    {
     "data": {
      "text/html": [
       "<div>\n",
       "<style scoped>\n",
       "    .dataframe tbody tr th:only-of-type {\n",
       "        vertical-align: middle;\n",
       "    }\n",
       "\n",
       "    .dataframe tbody tr th {\n",
       "        vertical-align: top;\n",
       "    }\n",
       "\n",
       "    .dataframe thead th {\n",
       "        text-align: right;\n",
       "    }\n",
       "</style>\n",
       "<table border=\"1\" class=\"dataframe\">\n",
       "  <thead>\n",
       "    <tr style=\"text-align: right;\">\n",
       "      <th></th>\n",
       "      <th>track_id</th>\n",
       "      <th>popularity</th>\n",
       "      <th>danceability</th>\n",
       "      <th>energy</th>\n",
       "      <th>key</th>\n",
       "      <th>loudness</th>\n",
       "      <th>speechiness</th>\n",
       "      <th>acousticness</th>\n",
       "      <th>instrumentalness</th>\n",
       "      <th>liveness</th>\n",
       "      <th>valence</th>\n",
       "      <th>tempo</th>\n",
       "      <th>duration_mins</th>\n",
       "      <th>release_year</th>\n",
       "      <th>base</th>\n",
       "    </tr>\n",
       "  </thead>\n",
       "  <tbody>\n",
       "    <tr>\n",
       "      <th>0</th>\n",
       "      <td>6kVuF2PYLuvl9T85XjNbaO</td>\n",
       "      <td>28</td>\n",
       "      <td>0.597</td>\n",
       "      <td>0.800</td>\n",
       "      <td>1</td>\n",
       "      <td>-5.423</td>\n",
       "      <td>0.3120</td>\n",
       "      <td>0.0461</td>\n",
       "      <td>0.000000</td>\n",
       "      <td>0.1800</td>\n",
       "      <td>0.565</td>\n",
       "      <td>155.932</td>\n",
       "      <td>5.036433</td>\n",
       "      <td>2011</td>\n",
       "      <td>1</td>\n",
       "    </tr>\n",
       "    <tr>\n",
       "      <th>1</th>\n",
       "      <td>1RGIjMFMgJxkZHMDXVYzOJ</td>\n",
       "      <td>75</td>\n",
       "      <td>0.832</td>\n",
       "      <td>0.391</td>\n",
       "      <td>8</td>\n",
       "      <td>-8.504</td>\n",
       "      <td>0.0628</td>\n",
       "      <td>0.0564</td>\n",
       "      <td>0.000000</td>\n",
       "      <td>0.2240</td>\n",
       "      <td>0.436</td>\n",
       "      <td>104.961</td>\n",
       "      <td>3.980000</td>\n",
       "      <td>2007</td>\n",
       "      <td>1</td>\n",
       "    </tr>\n",
       "    <tr>\n",
       "      <th>2</th>\n",
       "      <td>1dIWPXMX4kRHj6Dt2DStUQ</td>\n",
       "      <td>76</td>\n",
       "      <td>0.571</td>\n",
       "      <td>0.767</td>\n",
       "      <td>2</td>\n",
       "      <td>-5.160</td>\n",
       "      <td>0.2870</td>\n",
       "      <td>0.3360</td>\n",
       "      <td>0.000000</td>\n",
       "      <td>0.0809</td>\n",
       "      <td>0.605</td>\n",
       "      <td>93.421</td>\n",
       "      <td>2.694733</td>\n",
       "      <td>2020</td>\n",
       "      <td>1</td>\n",
       "    </tr>\n",
       "    <tr>\n",
       "      <th>3</th>\n",
       "      <td>4QVS8YCpK71R4FsxSMCjhP</td>\n",
       "      <td>72</td>\n",
       "      <td>0.548</td>\n",
       "      <td>0.839</td>\n",
       "      <td>6</td>\n",
       "      <td>-2.371</td>\n",
       "      <td>0.0644</td>\n",
       "      <td>0.1350</td>\n",
       "      <td>0.000000</td>\n",
       "      <td>0.1020</td>\n",
       "      <td>0.314</td>\n",
       "      <td>98.932</td>\n",
       "      <td>3.638250</td>\n",
       "      <td>2018</td>\n",
       "      <td>1</td>\n",
       "    </tr>\n",
       "    <tr>\n",
       "      <th>4</th>\n",
       "      <td>7BoobGhD4x5K96Me0hqC8Q</td>\n",
       "      <td>89</td>\n",
       "      <td>0.855</td>\n",
       "      <td>0.463</td>\n",
       "      <td>3</td>\n",
       "      <td>-7.454</td>\n",
       "      <td>0.0367</td>\n",
       "      <td>0.2170</td>\n",
       "      <td>0.000018</td>\n",
       "      <td>0.3470</td>\n",
       "      <td>0.866</td>\n",
       "      <td>102.931</td>\n",
       "      <td>2.046200</td>\n",
       "      <td>2021</td>\n",
       "      <td>1</td>\n",
       "    </tr>\n",
       "  </tbody>\n",
       "</table>\n",
       "</div>"
      ],
      "text/plain": [
       "                 track_id  popularity  danceability  energy  key  loudness  \\\n",
       "0  6kVuF2PYLuvl9T85XjNbaO          28         0.597   0.800    1    -5.423   \n",
       "1  1RGIjMFMgJxkZHMDXVYzOJ          75         0.832   0.391    8    -8.504   \n",
       "2  1dIWPXMX4kRHj6Dt2DStUQ          76         0.571   0.767    2    -5.160   \n",
       "3  4QVS8YCpK71R4FsxSMCjhP          72         0.548   0.839    6    -2.371   \n",
       "4  7BoobGhD4x5K96Me0hqC8Q          89         0.855   0.463    3    -7.454   \n",
       "\n",
       "   speechiness  acousticness  instrumentalness  liveness  valence    tempo  \\\n",
       "0       0.3120        0.0461          0.000000    0.1800    0.565  155.932   \n",
       "1       0.0628        0.0564          0.000000    0.2240    0.436  104.961   \n",
       "2       0.2870        0.3360          0.000000    0.0809    0.605   93.421   \n",
       "3       0.0644        0.1350          0.000000    0.1020    0.314   98.932   \n",
       "4       0.0367        0.2170          0.000018    0.3470    0.866  102.931   \n",
       "\n",
       "   duration_mins  release_year  base  \n",
       "0       5.036433          2011     1  \n",
       "1       3.980000          2007     1  \n",
       "2       2.694733          2020     1  \n",
       "3       3.638250          2018     1  \n",
       "4       2.046200          2021     1  "
      ]
     },
     "execution_count": 24,
     "metadata": {},
     "output_type": "execute_result"
    }
   ],
   "source": [
    "#importando as bases de dados\n",
    "df_pop_tiktok = pd.read_csv('../data/numeric_columns.csv')\n",
    "df_nao_pop = pd.read_csv('../data/nao_populares_rock_numeric.csv')\n",
    "\n",
    "\n",
    "#pegando as 100 primeiras musicas da base de populares\n",
    "df_pop_tiktok = df_pop_tiktok.iloc[0:100, :]\n",
    "\n",
    "#coluna p/distinguir origem da musica \n",
    "df_pop_tiktok['base'] = 1\n",
    "df_nao_pop['base'] = 2\n",
    "\n",
    "#juntando as bases\n",
    "df = pd.concat([df_pop_tiktok, df_nao_pop], ignore_index=True)\n",
    "\n",
    "#removendo algumas colunas\n",
    "del df['duration']\n",
    "del df['mode']\n",
    "\n",
    "df.head()"
   ]
  },
  {
   "cell_type": "code",
   "execution_count": 25,
   "metadata": {},
   "outputs": [
    {
     "data": {
      "text/plain": [
       "matrix([[5.97000000e-01, 8.00000000e-01, 1.00000000e+00, ...,\n",
       "         1.55932000e+02, 5.03643333e+00, 2.01100000e+03],\n",
       "        [8.32000000e-01, 3.91000000e-01, 8.00000000e+00, ...,\n",
       "         1.04961000e+02, 3.98000000e+00, 2.00700000e+03],\n",
       "        [5.71000000e-01, 7.67000000e-01, 2.00000000e+00, ...,\n",
       "         9.34210000e+01, 2.69473333e+00, 2.02000000e+03],\n",
       "        ...,\n",
       "        [5.56000000e-01, 7.62000000e-01, 0.00000000e+00, ...,\n",
       "         1.11155000e+02, 4.37085000e+00, 2.01700000e+03],\n",
       "        [5.92000000e-01, 7.40000000e-01, 8.00000000e+00, ...,\n",
       "         1.16017000e+02, 3.71621667e+00, 2.00100000e+03],\n",
       "        [5.62000000e-01, 8.91000000e-01, 1.00000000e+00, ...,\n",
       "         1.32569000e+02, 4.77888333e+00, 1.99200000e+03]])"
      ]
     },
     "execution_count": 25,
     "metadata": {},
     "output_type": "execute_result"
    }
   ],
   "source": [
    "#tranformando o df em matrix\n",
    "db_matrix = np.matrix(df.iloc[:, 2:14])\n",
    "db_matrix"
   ]
  },
  {
   "cell_type": "code",
   "execution_count": 26,
   "metadata": {},
   "outputs": [
    {
     "data": {
      "text/plain": [
       "array([-2.13162821e-16, -3.37507799e-16,  1.33226763e-17,  1.19904087e-16,\n",
       "        0.00000000e+00,  1.77635684e-16, -3.55271368e-17,  5.32907052e-17,\n",
       "       -2.13162821e-16,  1.42108547e-16,  4.26325641e-16, -8.10018719e-15])"
      ]
     },
     "execution_count": 26,
     "metadata": {},
     "output_type": "execute_result"
    }
   ],
   "source": [
    "from sklearn.preprocessing import StandardScaler\n",
    "\n",
    "#normalizando os dados\n",
    "db_matrix = np.asarray(db_matrix)\n",
    "matrix_norm = StandardScaler().fit_transform(db_matrix)\n",
    "\n",
    "#agora a média de todas as colunas é praticamente zero\n",
    "matrix_norm.mean(0)"
   ]
  },
  {
   "cell_type": "code",
   "execution_count": 27,
   "metadata": {},
   "outputs": [],
   "source": [
    "matrix_norm = np.asarray(matrix_norm)"
   ]
  },
  {
   "cell_type": "code",
   "execution_count": 28,
   "metadata": {},
   "outputs": [],
   "source": [
    "#importando o módulo de PCA\n",
    "from sklearn.decomposition import PCA\n",
    "\n",
    "#primeiro, vamos observar todos componentes principais \n",
    "pca = PCA(n_components = 12)"
   ]
  },
  {
   "cell_type": "code",
   "execution_count": 29,
   "metadata": {},
   "outputs": [
    {
     "data": {
      "text/plain": [
       "PCA(n_components=12)"
      ]
     },
     "execution_count": 29,
     "metadata": {},
     "output_type": "execute_result"
    }
   ],
   "source": [
    "#rodando o PCA\n",
    "pca.fit(matrix_norm)"
   ]
  },
  {
   "cell_type": "code",
   "execution_count": 30,
   "metadata": {},
   "outputs": [
    {
     "data": {
      "text/plain": [
       "array([0.239, 0.146, 0.105, 0.089, 0.084, 0.076, 0.072, 0.063, 0.045,\n",
       "       0.038, 0.025, 0.018])"
      ]
     },
     "execution_count": 30,
     "metadata": {},
     "output_type": "execute_result"
    }
   ],
   "source": [
    "#componentes obtidos\n",
    "np.round(pca.explained_variance_ratio_,3)"
   ]
  },
  {
   "cell_type": "code",
   "execution_count": 31,
   "metadata": {},
   "outputs": [
    {
     "data": {
      "image/png": "[encoded data removed]",
      "text/plain": [
       "<Figure size 600x500 with 1 Axes>"
      ]
     },
     "metadata": {},
     "output_type": "display_data"
    }
   ],
   "source": [
    "fig = plt.figure(figsize=(6, 5))\n",
    "\n",
    "plt.plot(pca.explained_variance_ratio_, 'ro-', linewidth=2)\n",
    "plt.xlabel('Componente pricipal')\n",
    "plt.ylabel('Autovalor')\n",
    "\n",
    "plt.show()"
   ]
  },
  {
   "cell_type": "code",
   "execution_count": 32,
   "metadata": {},
   "outputs": [
    {
     "data": {
      "text/plain": [
       "array([0.23867144, 0.38480174, 0.48979838, 0.57881651, 0.66310859,\n",
       "       0.73928723, 0.81080745, 0.87416348, 0.91895333, 0.95655649,\n",
       "       0.98166732, 1.        ])"
      ]
     },
     "execution_count": 32,
     "metadata": {},
     "output_type": "execute_result"
    }
   ],
   "source": [
    "#soma cumulativa dos componentes\n",
    "pca.explained_variance_ratio_.cumsum()"
   ]
  },
  {
   "attachments": {},
   "cell_type": "markdown",
   "metadata": {},
   "source": [
    "A partir desse resultado, concluímos que pelo menos 5 componentes principais devem ser usadas para explicar cerca de 66% da variabilidade dos dados."
   ]
  },
  {
   "cell_type": "code",
   "execution_count": 34,
   "metadata": {},
   "outputs": [
    {
     "data": {
      "application/vnd.plotly.v1+json": {
       "config": {
        "plotlyServerURL": "https://plot.ly"
       },
       "data": [
        {
         "diagonal": {
          "visible": false
         },
         "dimensions": [
          {
           "axis": {
            "matches": true
           },
           "label": "PC 1 (23.9%)",
           "values": [
            0.14730780053505318,
            -1.0516840861668666,
            -1.9219646004149895,
            0.21708408995193781,
            -2.3963177759411836,
            -0.970739995886028,
            -2.2000299015920897,
            -2.560831226759174,
            -1.7560966723217013,
            -1.3165574233589221,
            0.14168446749504413,
            -0.19148933847664043,
            -1.9989303664252684,
            -3.0329616189073674,
            -1.1752138495956126,
            -1.2321525467484364,
            -1.867389386657032,
            -0.6290986157544688,
            -1.039993682031641,
            -2.571837996271856,
            -0.8523023379441409,
            -1.4312689172647226,
            0.1765222812878209,
            -3.6582668215550274,
            -1.4870312510533144,
            -1.4009995628635,
            -0.7579003244540875,
            -1.6047495461269419,
            -0.6414233425550908,
            -0.7153545180913634,
            -0.7990060110887044,
            -1.4885116074025546,
            -1.0074361254277278,
            -1.3013810092777542,
            -2.9966591640320974,
            0.4363979715326826,
            -3.9749963158708224,
            0.30831236548696134,
            -1.079533346547834,
            -0.21612914113014733,
            -2.271884698071933,
            -1.6151212083649025,
            -0.5012311003114834,
            -0.07259669776859994,
            -1.3444300908667413,
            -2.1332911546754825,
            -1.8817262600325793,
            -1.6219879368209493,
            -0.883857693600116,
            -0.804658159815288,
            -1.993913408023762,
            -0.21533656781290744,
            0.33539206809534294,
            -1.4105391124535236,
            -3.164222893985505,
            0.49634095386811783,
            -0.6456068030717269,
            -4.078878936093904,
            -0.6197219287114313,
            -0.31705844474682815,
            -2.0748048148315092,
            -0.07879573295908357,
            -0.6779623001557782,
            -0.21120992739715033,
            -0.591982716640423,
            -1.2304332481259754,
            0.10206042763459339,
            -1.7100247910579136,
            -2.339816819600553,
            -1.3386398033766356,
            0.13551165460693881,
            -2.3807295937884403,
            -1.7502079165557292,
            -1.2344041184497407,
            0.7955604126277687,
            -2.5118815869176383,
            -0.49652581984225325,
            0.12206006900215967,
            -1.4635499832440944,
            -0.9014569670235326,
            -0.9306525129604962,
            -1.8349892766580076,
            -2.861652654576345,
            -1.2885780001351115,
            -0.807075256516601,
            -2.616355438607363,
            -1.2165670767420602,
            -1.4123034264458159,
            -1.3361111806740011,
            -2.2522681476656685,
            -2.947276001682812,
            0.5699618926187753,
            -1.1268350161491334,
            -1.4891823217235216,
            -0.4171946711185269,
            -1.3176076493227054,
            -2.9833965458154625,
            -1.1658119111335374,
            0.31616027280378917,
            -1.783385182295896,
            0.8694837386231007,
            1.322008493961368,
            4.134518316171222,
            1.8248965874102754,
            0.09880317096942633,
            3.2176486243675586,
            2.170640095096334,
            1.284588298446436,
            0.025670376896956195,
            3.2361357627826397,
            -0.7201379692434414,
            -0.6765084235554216,
            1.6106970087793129,
            1.8971085591345491,
            2.0214025622716485,
            1.730805327017282,
            0.020569686795674332,
            0.7074705219077757,
            1.9613264493242957,
            3.0968162240663117,
            3.0114158479151603,
            0.817095335996911,
            1.3396427763014895,
            1.4537784760386472,
            0.37690691423697653,
            -1.4186875177639915,
            1.4654121859467963,
            1.4360470690073264,
            2.592237185179447,
            1.3425306378924704,
            0.7963918335036101,
            1.182583325538492,
            1.834861624559882,
            1.8610689157047198,
            2.312382684736584,
            -0.38258118769146404,
            -0.9084428695777595,
            -0.23315907893541324,
            0.992267165175589,
            1.3875863569251323,
            1.6064594408476096,
            0.1290750878958885,
            0.5999693870444766,
            1.8476763432886152,
            1.163249491118914,
            1.627785997462283,
            1.4695759720058792,
            1.2999864376433576,
            2.0935301243713296,
            3.521576513351012,
            1.750389794214734,
            3.23847812725302,
            5.152856811870974,
            1.7140927418215344,
            1.637672624483962,
            2.1924866681397885,
            4.716991713896052,
            1.1967834752701831,
            0.9238597796711256,
            0.6801212137045639,
            1.056975026314107,
            -0.04472631856698849,
            1.4666194629826712,
            -0.37058274123652124,
            0.22006332563069547,
            1.0773070036591395,
            1.3076158101111477,
            1.2060620265117266,
            0.015600701003414211,
            0.775333969872327,
            -0.5985919674204301,
            -0.004823472964284371,
            0.214680776125622,
            1.2558894300064316,
            1.0797062747391084,
            -0.665870023460322,
            0.40041542338943853,
            0.6837122106270672,
            2.3699112784554295,
            0.38459827020940707,
            2.100841663387474,
            -1.0807808640732204,
            0.8979451016620881,
            1.162362381246819,
            1.2592904488488048,
            1.3644899974293576,
            0.7462773524060614,
            2.7138201490809823,
            2.340320985456208,
            2.4415372001806115,
            0.9298949352124478,
            3.0572066120388985,
            1.3539755788979686,
            0.9987215380378234,
            3.2156502919470125,
            -0.2207427966291978,
            -1.387197529150211,
            0.47189114234295404,
            0.1465851588732297,
            1.3837285534107946
           ]
          },
          {
           "axis": {
            "matches": true
           },
           "label": "PC 2 (14.6%)",
           "values": [
            -0.5398271811250959,
            1.323506818387829,
            -0.781878779051488,
            -1.3766862928109815,
            0.196301281507784,
            -0.8987194560484105,
            1.5338455519158651,
            -1.879258330772601,
            -0.4903860509313873,
            -0.6356162469265492,
            -1.5509447977292925,
            -0.5956871940388564,
            -0.36159719551699826,
            1.5022768788240246,
            -0.1688170273723582,
            -0.37778122529104535,
            1.0866601295340577,
            -0.0010093518721001821,
            -1.226154251420487,
            0.7008505499069962,
            0.01898520188557191,
            1.8365282952468005,
            1.5553880624288179,
            1.0677230781869396,
            -0.28642976192671926,
            1.3490924186540454,
            -0.3506242141109073,
            -1.2032048428857596,
            -1.3321736013989205,
            0.928565947132125,
            -0.5555422908254722,
            -0.2822858362322099,
            -1.129819795983187,
            0.021205155593329,
            -0.05118798546221062,
            -1.439633628154859,
            1.3348519561635797,
            -1.0357586699272556,
            -0.02569365542290489,
            -1.0035762648554907,
            0.13797859859654682,
            -1.694683670873279,
            -0.994722535557379,
            -0.7882500196278625,
            0.8195300864870725,
            0.24543835027129085,
            -1.8649178921771221,
            -0.6944643353697257,
            -3.4094537689575044,
            -1.4219100400209388,
            -1.74871360431874,
            -1.8982917577519232,
            -1.7894073958309906,
            -0.035387551759715884,
            -1.1110108802079133,
            -0.4257503328382599,
            -1.4552422372803275,
            2.587018228655213,
            -2.005629510125276,
            1.8938789004729477,
            -1.718448491980865,
            -2.217028023409401,
            -0.5600425175882165,
            0.3760924973518324,
            0.20551688939827514,
            0.6058840910690376,
            1.2272611586640476,
            -1.9201843936324436,
            0.12582567124246563,
            0.7477183536260423,
            -1.5500557309684886,
            -0.8861404606159303,
            1.8374216333473032,
            -0.6293952963032293,
            -0.31063592206211754,
            0.5042839894372059,
            1.2185341394588622,
            1.5306354485303024,
            -1.5903506876316682,
            -0.6271744843520837,
            -2.145428853728004,
            -1.1364725435232002,
            0.4503373786737481,
            0.19459386642497167,
            -1.9553602513092172,
            -1.1760026393002405,
            -0.19161092203113408,
            2.2158033895120233,
            -1.2045148219814412,
            -0.9194383783263052,
            1.111812730725096,
            -1.3462114069940998,
            1.051542878140248,
            0.067156573510338,
            0.48288052576249607,
            0.37494137010081996,
            0.9727404034186985,
            0.39516057830410867,
            0.5030060372386237,
            0.09102319674153535,
            -0.46750449221291823,
            1.13454166176985,
            -0.03682038482287315,
            -0.12587945674755066,
            1.0333210623821658,
            1.1176239138328214,
            0.11145562003231714,
            1.8440879867607998,
            -0.2908099168611055,
            -0.4142954971828336,
            -0.038025261831366064,
            -0.11689235770605948,
            0.12368875268211472,
            -0.6958126581016852,
            -0.8419047412383462,
            -0.2511583899789341,
            -0.6721950281526955,
            -0.42252955217307153,
            0.47915819049791336,
            -0.151431667666188,
            -0.675277354346624,
            0.38368989720004665,
            -0.6153038687585951,
            0.05249525229122643,
            0.05015095268936883,
            1.944058260010097,
            1.5071963352825748,
            0.1912107209442884,
            -0.18014444384169037,
            0.3442634140744636,
            0.09203717877725273,
            0.8324572398406866,
            1.7206925189866902,
            0.9947189123638945,
            0.32036250659512605,
            3.5826108850915905,
            4.585120300369398,
            2.249374225737642,
            -0.31249777225304765,
            0.42956181607117555,
            0.500622045847951,
            -0.6683636969290135,
            -1.0464476434260994,
            0.3182327549894281,
            -0.19553374344897656,
            -0.8464757857908547,
            -0.3057804252804298,
            1.248853342773067,
            0.43209635965806087,
            1.9704649112439663,
            0.9594818546583871,
            1.4364902805006516,
            -0.08172283827538561,
            3.9780207317479093,
            1.867954267193281,
            -0.62065152806943,
            -1.2985222209822105,
            -1.0029415513746902,
            -0.6954785642464463,
            -1.6757759252975621,
            -1.1225244363529199,
            -1.1490875347110059,
            -0.4621865657921477,
            -0.43079619762919735,
            -0.7052070119742307,
            -2.005824159565987,
            -0.5153635130315697,
            -0.7438784866147977,
            -0.14443561225392115,
            -0.15687723491668004,
            0.0707794623254111,
            1.84412494641057,
            4.580332856786007,
            -0.2740453669795582,
            -0.33663416004909186,
            4.108336526351428,
            -0.7365586938254379,
            -1.1767735757230824,
            0.8371471982732704,
            0.3730161138080741,
            0.6918783847980482,
            5.317709567223169,
            -3.0626171847759656,
            1.2403902358730985,
            -1.319123803965239,
            -0.7551643761253531,
            -1.1704761388965774,
            0.0376115154558842,
            2.3488021279245452,
            -0.7192241825776922,
            -1.6964493900941822,
            0.03578666227663192,
            -0.8619940863602235,
            0.9260220507395516,
            -0.4240197813573902,
            1.0704921362561428,
            -0.294341400570513,
            -0.013832047649794267,
            -0.2191085729855631,
            0.49702334037643037
           ]
          }
         ],
         "hovertemplate": "%{xaxis.title.text}=%{x}<br>%{yaxis.title.text}=%{y}<br>color=%{marker.color}<extra></extra>",
         "legendgroup": "",
         "marker": {
          "color": [
           1,
           1,
           1,
           1,
           1,
           1,
           1,
           1,
           1,
           1,
           1,
           1,
           1,
           1,
           1,
           1,
           1,
           1,
           1,
           1,
           1,
           1,
           1,
           1,
           1,
           1,
           1,
           1,
           1,
           1,
           1,
           1,
           1,
           1,
           1,
           1,
           1,
           1,
           1,
           1,
           1,
           1,
           1,
           1,
           1,
           1,
           1,
           1,
           1,
           1,
           1,
           1,
           1,
           1,
           1,
           1,
           1,
           1,
           1,
           1,
           1,
           1,
           1,
           1,
           1,
           1,
           1,
           1,
           1,
           1,
           1,
           1,
           1,
           1,
           1,
           1,
           1,
           1,
           1,
           1,
           1,
           1,
           1,
           1,
           1,
           1,
           1,
           1,
           1,
           1,
           1,
           1,
           1,
           1,
           1,
           1,
           1,
           1,
           1,
           1,
           2,
           2,
           2,
           2,
           2,
           2,
           2,
           2,
           2,
           2,
           2,
           2,
           2,
           2,
           2,
           2,
           2,
           2,
           2,
           2,
           2,
           2,
           2,
           2,
           2,
           2,
           2,
           2,
           2,
           2,
           2,
           2,
           2,
           2,
           2,
           2,
           2,
           2,
           2,
           2,
           2,
           2,
           2,
           2,
           2,
           2,
           2,
           2,
           2,
           2,
           2,
           2,
           2,
           2,
           2,
           2,
           2,
           2,
           2,
           2,
           2,
           2,
           2,
           2,
           2,
           2,
           2,
           2,
           2,
           2,
           2,
           2,
           2,
           2,
           2,
           2,
           2,
           2,
           2,
           2,
           2,
           2,
           2,
           2,
           2,
           2,
           2,
           2,
           2,
           2,
           2,
           2,
           2,
           2,
           2,
           2,
           2,
           2,
           2,
           2
          ],
          "coloraxis": "coloraxis",
          "symbol": "circle"
         },
         "name": "",
         "showlegend": false,
         "type": "splom"
        }
       ],
       "layout": {
        "coloraxis": {
         "colorbar": {
          "title": {
           "text": "color"
          }
         },
         "colorscale": [
          [
           0,
           "#0d0887"
          ],
          [
           0.1111111111111111,
           "#46039f"
          ],
          [
           0.2222222222222222,
           "#7201a8"
          ],
          [
           0.3333333333333333,
           "#9c179e"
          ],
          [
           0.4444444444444444,
           "#bd3786"
          ],
          [
           0.5555555555555556,
           "#d8576b"
          ],
          [
           0.6666666666666666,
           "#ed7953"
          ],
          [
           0.7777777777777778,
           "#fb9f3a"
          ],
          [
           0.8888888888888888,
           "#fdca26"
          ],
          [
           1,
           "#f0f921"
          ]
         ]
        },
        "dragmode": "select",
        "legend": {
         "tracegroupgap": 0
        },
        "margin": {
         "t": 60
        },
        "template": {
         "data": {
          "bar": [
           {
            "error_x": {
             "color": "#2a3f5f"
            },
            "error_y": {
             "color": "#2a3f5f"
            },
            "marker": {
             "line": {
              "color": "#E5ECF6",
              "width": 0.5
             },
             "pattern": {
              "fillmode": "overlay",
              "size": 10,
              "solidity": 0.2
             }
            },
            "type": "bar"
           }
          ],
          "barpolar": [
           {
            "marker": {
             "line": {
              "color": "#E5ECF6",
              "width": 0.5
             },
             "pattern": {
              "fillmode": "overlay",
              "size": 10,
              "solidity": 0.2
             }
            },
            "type": "barpolar"
           }
          ],
          "carpet": [
           {
            "aaxis": {
             "endlinecolor": "#2a3f5f",
             "gridcolor": "white",
             "linecolor": "white",
             "minorgridcolor": "white",
             "startlinecolor": "#2a3f5f"
            },
            "baxis": {
             "endlinecolor": "#2a3f5f",
             "gridcolor": "white",
             "linecolor": "white",
             "minorgridcolor": "white",
             "startlinecolor": "#2a3f5f"
            },
            "type": "carpet"
           }
          ],
          "choropleth": [
           {
            "colorbar": {
             "outlinewidth": 0,
             "ticks": ""
            },
            "type": "choropleth"
           }
          ],
          "contour": [
           {
            "colorbar": {
             "outlinewidth": 0,
             "ticks": ""
            },
            "colorscale": [
             [
              0,
              "#0d0887"
             ],
             [
              0.1111111111111111,
              "#46039f"
             ],
             [
              0.2222222222222222,
              "#7201a8"
             ],
             [
              0.3333333333333333,
              "#9c179e"
             ],
             [
              0.4444444444444444,
              "#bd3786"
             ],
             [
              0.5555555555555556,
              "#d8576b"
             ],
             [
              0.6666666666666666,
              "#ed7953"
             ],
             [
              0.7777777777777778,
              "#fb9f3a"
             ],
             [
              0.8888888888888888,
              "#fdca26"
             ],
             [
              1,
              "#f0f921"
             ]
            ],
            "type": "contour"
           }
          ],
          "contourcarpet": [
           {
            "colorbar": {
             "outlinewidth": 0,
             "ticks": ""
            },
            "type": "contourcarpet"
           }
          ],
          "heatmap": [
           {
            "colorbar": {
             "outlinewidth": 0,
             "ticks": ""
            },
            "colorscale": [
             [
              0,
              "#0d0887"
             ],
             [
              0.1111111111111111,
              "#46039f"
             ],
             [
              0.2222222222222222,
              "#7201a8"
             ],
             [
              0.3333333333333333,
              "#9c179e"
             ],
             [
              0.4444444444444444,
              "#bd3786"
             ],
             [
              0.5555555555555556,
              "#d8576b"
             ],
             [
              0.6666666666666666,
              "#ed7953"
             ],
             [
              0.7777777777777778,
              "#fb9f3a"
             ],
             [
              0.8888888888888888,
              "#fdca26"
             ],
             [
              1,
              "#f0f921"
             ]
            ],
            "type": "heatmap"
           }
          ],
          "heatmapgl": [
           {
            "colorbar": {
             "outlinewidth": 0,
             "ticks": ""
            },
            "colorscale": [
             [
              0,
              "#0d0887"
             ],
             [
              0.1111111111111111,
              "#46039f"
             ],
             [
              0.2222222222222222,
              "#7201a8"
             ],
             [
              0.3333333333333333,
              "#9c179e"
             ],
             [
              0.4444444444444444,
              "#bd3786"
             ],
             [
              0.5555555555555556,
              "#d8576b"
             ],
             [
              0.6666666666666666,
              "#ed7953"
             ],
             [
              0.7777777777777778,
              "#fb9f3a"
             ],
             [
              0.8888888888888888,
              "#fdca26"
             ],
             [
              1,
              "#f0f921"
             ]
            ],
            "type": "heatmapgl"
           }
          ],
          "histogram": [
           {
            "marker": {
             "pattern": {
              "fillmode": "overlay",
              "size": 10,
              "solidity": 0.2
             }
            },
            "type": "histogram"
           }
          ],
          "histogram2d": [
           {
            "colorbar": {
             "outlinewidth": 0,
             "ticks": ""
            },
            "colorscale": [
             [
              0,
              "#0d0887"
             ],
             [
              0.1111111111111111,
              "#46039f"
             ],
             [
              0.2222222222222222,
              "#7201a8"
             ],
             [
              0.3333333333333333,
              "#9c179e"
             ],
             [
              0.4444444444444444,
              "#bd3786"
             ],
             [
              0.5555555555555556,
              "#d8576b"
             ],
             [
              0.6666666666666666,
              "#ed7953"
             ],
             [
              0.7777777777777778,
              "#fb9f3a"
             ],
             [
              0.8888888888888888,
              "#fdca26"
             ],
             [
              1,
              "#f0f921"
             ]
            ],
            "type": "histogram2d"
           }
          ],
          "histogram2dcontour": [
           {
            "colorbar": {
             "outlinewidth": 0,
             "ticks": ""
            },
            "colorscale": [
             [
              0,
              "#0d0887"
             ],
             [
              0.1111111111111111,
              "#46039f"
             ],
             [
              0.2222222222222222,
              "#7201a8"
             ],
             [
              0.3333333333333333,
              "#9c179e"
             ],
             [
              0.4444444444444444,
              "#bd3786"
             ],
             [
              0.5555555555555556,
              "#d8576b"
             ],
             [
              0.6666666666666666,
              "#ed7953"
             ],
             [
              0.7777777777777778,
              "#fb9f3a"
             ],
             [
              0.8888888888888888,
              "#fdca26"
             ],
             [
              1,
              "#f0f921"
             ]
            ],
            "type": "histogram2dcontour"
           }
          ],
          "mesh3d": [
           {
            "colorbar": {
             "outlinewidth": 0,
             "ticks": ""
            },
            "type": "mesh3d"
           }
          ],
          "parcoords": [
           {
            "line": {
             "colorbar": {
              "outlinewidth": 0,
              "ticks": ""
             }
            },
            "type": "parcoords"
           }
          ],
          "pie": [
           {
            "automargin": true,
            "type": "pie"
           }
          ],
          "scatter": [
           {
            "fillpattern": {
             "fillmode": "overlay",
             "size": 10,
             "solidity": 0.2
            },
            "type": "scatter"
           }
          ],
          "scatter3d": [
           {
            "line": {
             "colorbar": {
              "outlinewidth": 0,
              "ticks": ""
             }
            },
            "marker": {
             "colorbar": {
              "outlinewidth": 0,
              "ticks": ""
             }
            },
            "type": "scatter3d"
           }
          ],
          "scattercarpet": [
           {
            "marker": {
             "colorbar": {
              "outlinewidth": 0,
              "ticks": ""
             }
            },
            "type": "scattercarpet"
           }
          ],
          "scattergeo": [
           {
            "marker": {
             "colorbar": {
              "outlinewidth": 0,
              "ticks": ""
             }
            },
            "type": "scattergeo"
           }
          ],
          "scattergl": [
           {
            "marker": {
             "colorbar": {
              "outlinewidth": 0,
              "ticks": ""
             }
            },
            "type": "scattergl"
           }
          ],
          "scattermapbox": [
           {
            "marker": {
             "colorbar": {
              "outlinewidth": 0,
              "ticks": ""
             }
            },
            "type": "scattermapbox"
           }
          ],
          "scatterpolar": [
           {
            "marker": {
             "colorbar": {
              "outlinewidth": 0,
              "ticks": ""
             }
            },
            "type": "scatterpolar"
           }
          ],
          "scatterpolargl": [
           {
            "marker": {
             "colorbar": {
              "outlinewidth": 0,
              "ticks": ""
             }
            },
            "type": "scatterpolargl"
           }
          ],
          "scatterternary": [
           {
            "marker": {
             "colorbar": {
              "outlinewidth": 0,
              "ticks": ""
             }
            },
            "type": "scatterternary"
           }
          ],
          "surface": [
           {
            "colorbar": {
             "outlinewidth": 0,
             "ticks": ""
            },
            "colorscale": [
             [
              0,
              "#0d0887"
             ],
             [
              0.1111111111111111,
              "#46039f"
             ],
             [
              0.2222222222222222,
              "#7201a8"
             ],
             [
              0.3333333333333333,
              "#9c179e"
             ],
             [
              0.4444444444444444,
              "#bd3786"
             ],
             [
              0.5555555555555556,
              "#d8576b"
             ],
             [
              0.6666666666666666,
              "#ed7953"
             ],
             [
              0.7777777777777778,
              "#fb9f3a"
             ],
             [
              0.8888888888888888,
              "#fdca26"
             ],
             [
              1,
              "#f0f921"
             ]
            ],
            "type": "surface"
           }
          ],
          "table": [
           {
            "cells": {
             "fill": {
              "color": "#EBF0F8"
             },
             "line": {
              "color": "white"
             }
            },
            "header": {
             "fill": {
              "color": "#C8D4E3"
             },
             "line": {
              "color": "white"
             }
            },
            "type": "table"
           }
          ]
         },
         "layout": {
          "annotationdefaults": {
           "arrowcolor": "#2a3f5f",
           "arrowhead": 0,
           "arrowwidth": 1
          },
          "autotypenumbers": "strict",
          "coloraxis": {
           "colorbar": {
            "outlinewidth": 0,
            "ticks": ""
           }
          },
          "colorscale": {
           "diverging": [
            [
             0,
             "#8e0152"
            ],
            [
             0.1,
             "#c51b7d"
            ],
            [
             0.2,
             "#de77ae"
            ],
            [
             0.3,
             "#f1b6da"
            ],
            [
             0.4,
             "#fde0ef"
            ],
            [
             0.5,
             "#f7f7f7"
            ],
            [
             0.6,
             "#e6f5d0"
            ],
            [
             0.7,
             "#b8e186"
            ],
            [
             0.8,
             "#7fbc41"
            ],
            [
             0.9,
             "#4d9221"
            ],
            [
             1,
             "#276419"
            ]
           ],
           "sequential": [
            [
             0,
             "#0d0887"
            ],
            [
             0.1111111111111111,
             "#46039f"
            ],
            [
             0.2222222222222222,
             "#7201a8"
            ],
            [
             0.3333333333333333,
             "#9c179e"
            ],
            [
             0.4444444444444444,
             "#bd3786"
            ],
            [
             0.5555555555555556,
             "#d8576b"
            ],
            [
             0.6666666666666666,
             "#ed7953"
            ],
            [
             0.7777777777777778,
             "#fb9f3a"
            ],
            [
             0.8888888888888888,
             "#fdca26"
            ],
            [
             1,
             "#f0f921"
            ]
           ],
           "sequentialminus": [
            [
             0,
             "#0d0887"
            ],
            [
             0.1111111111111111,
             "#46039f"
            ],
            [
             0.2222222222222222,
             "#7201a8"
            ],
            [
             0.3333333333333333,
             "#9c179e"
            ],
            [
             0.4444444444444444,
             "#bd3786"
            ],
            [
             0.5555555555555556,
             "#d8576b"
            ],
            [
             0.6666666666666666,
             "#ed7953"
            ],
            [
             0.7777777777777778,
             "#fb9f3a"
            ],
            [
             0.8888888888888888,
             "#fdca26"
            ],
            [
             1,
             "#f0f921"
            ]
           ]
          },
          "colorway": [
           "#636efa",
           "#EF553B",
           "#00cc96",
           "#ab63fa",
           "#FFA15A",
           "#19d3f3",
           "#FF6692",
           "#B6E880",
           "#FF97FF",
           "#FECB52"
          ],
          "font": {
           "color": "#2a3f5f"
          },
          "geo": {
           "bgcolor": "white",
           "lakecolor": "white",
           "landcolor": "#E5ECF6",
           "showlakes": true,
           "showland": true,
           "subunitcolor": "white"
          },
          "hoverlabel": {
           "align": "left"
          },
          "hovermode": "closest",
          "mapbox": {
           "style": "light"
          },
          "paper_bgcolor": "white",
          "plot_bgcolor": "#E5ECF6",
          "polar": {
           "angularaxis": {
            "gridcolor": "white",
            "linecolor": "white",
            "ticks": ""
           },
           "bgcolor": "#E5ECF6",
           "radialaxis": {
            "gridcolor": "white",
            "linecolor": "white",
            "ticks": ""
           }
          },
          "scene": {
           "xaxis": {
            "backgroundcolor": "#E5ECF6",
            "gridcolor": "white",
            "gridwidth": 2,
            "linecolor": "white",
            "showbackground": true,
            "ticks": "",
            "zerolinecolor": "white"
           },
           "yaxis": {
            "backgroundcolor": "#E5ECF6",
            "gridcolor": "white",
            "gridwidth": 2,
            "linecolor": "white",
            "showbackground": true,
            "ticks": "",
            "zerolinecolor": "white"
           },
           "zaxis": {
            "backgroundcolor": "#E5ECF6",
            "gridcolor": "white",
            "gridwidth": 2,
            "linecolor": "white",
            "showbackground": true,
            "ticks": "",
            "zerolinecolor": "white"
           }
          },
          "shapedefaults": {
           "line": {
            "color": "#2a3f5f"
           }
          },
          "ternary": {
           "aaxis": {
            "gridcolor": "white",
            "linecolor": "white",
            "ticks": ""
           },
           "baxis": {
            "gridcolor": "white",
            "linecolor": "white",
            "ticks": ""
           },
           "bgcolor": "#E5ECF6",
           "caxis": {
            "gridcolor": "white",
            "linecolor": "white",
            "ticks": ""
           }
          },
          "title": {
           "x": 0.05
          },
          "xaxis": {
           "automargin": true,
           "gridcolor": "white",
           "linecolor": "white",
           "ticks": "",
           "title": {
            "standoff": 15
           },
           "zerolinecolor": "white",
           "zerolinewidth": 2
          },
          "yaxis": {
           "automargin": true,
           "gridcolor": "white",
           "linecolor": "white",
           "ticks": "",
           "title": {
            "standoff": 15
           },
           "zerolinecolor": "white",
           "zerolinewidth": 2
          }
         }
        }
       }
      }
     },
     "metadata": {},
     "output_type": "display_data"
    }
   ],
   "source": [
    "import plotly.express as px\n",
    "\n",
    "#visualizando resultados\n",
    "\n",
    "components = pca.fit_transform(matrix_norm)\n",
    "labels = {\n",
    "    str(i): f\"PC {i+1} ({var:.1f}%)\"\n",
    "    for i, var in enumerate(pca.explained_variance_ratio_ * 100)\n",
    "}\n",
    "\n",
    "fig = px.scatter_matrix(\n",
    "    components,\n",
    "    labels=labels,\n",
    "    dimensions=range(2),\n",
    "    color=df[\"base\"]\n",
    ")\n",
    "fig.update_traces(diagonal_visible=False)\n",
    "fig.show()"
   ]
  },
  {
   "attachments": {},
   "cell_type": "markdown",
   "metadata": {},
   "source": [
    "Há uma diferença clara entre os grupos 1 e 2 nos gráficos plotados. O grupo 1, que está em azul, são as músicas populares no TikTok, já os pontos amarelos são as músicas não populares. A partir desse resultado podemos inferir que existe sim uma diferença entre as músicas que fazem sucesso no tiktok e as que não fazem. Agora vamos observar os pesos das variáveis nas componentes principais, para poder entender melhor de onde vem essa diferença."
   ]
  },
  {
   "cell_type": "code",
   "execution_count": 44,
   "metadata": {},
   "outputs": [
    {
     "name": "stdout",
     "output_type": "stream",
     "text": [
      "As colunas usadas no PCA são: ['danceability', 'energy', 'key', 'loudness', 'speechiness', 'acousticness', 'instrumentalness', 'liveness', 'valence', 'tempo', 'duration_mins', 'release_year']\n"
     ]
    }
   ],
   "source": [
    "print(\"As colunas usadas no PCA são:\", list(df.iloc[:,2:14].columns.values))"
   ]
  },
  {
   "cell_type": "code",
   "execution_count": 45,
   "metadata": {},
   "outputs": [
    {
     "name": "stdout",
     "output_type": "stream",
     "text": [
      "Primeira componente principal: [-0.493  0.33   0.059  0.117 -0.324 -0.239  0.143  0.279 -0.206  0.238\n",
      "  0.413 -0.317]\n",
      "Segunda componente principal: [-0.159 -0.515 -0.107 -0.648 -0.1    0.239 -0.158 -0.011 -0.22   0.065\n",
      "  0.136 -0.338]\n",
      "Terceira componente principal: [ 0.113  0.011  0.51  -0.087 -0.303 -0.068  0.038 -0.368  0.542 -0.201\n",
      "  0.146 -0.362]\n"
     ]
    }
   ],
   "source": [
    "print(\"Primeira componente principal:\" , np.round(pca.components_[0, :],3))\n",
    "print(\"Segunda componente principal:\" , np.round(pca.components_[1, :],3))\n",
    "print(\"Terceira componente principal:\" , np.round(pca.components_[2, :],3))"
   ]
  },
  {
   "attachments": {},
   "cell_type": "markdown",
   "metadata": {},
   "source": [
    "A primeira componente tem como variável de maior peso a __dançabilidade.__\n",
    "\n",
    "A segunda componente tem como variável de maior peso a __energia.__\n",
    "\n",
    "A terceira componente tem como variável de maior peso a __valência.__\n",
    "\n",
    "O que isso sugere? (responder ao finalizar análise)"
   ]
  }
 ],
 "metadata": {
  "kernelspec": {
   "display_name": "base",
   "language": "python",
   "name": "python3"
  },
  "language_info": {
   "codemirror_mode": {
    "name": "ipython",
    "version": 3
   },
   "file_extension": ".py",
   "mimetype": "text/x-python",
   "name": "python",
   "nbconvert_exporter": "python",
   "pygments_lexer": "ipython3",
   "version": "3.9.13"
  },
  "orig_nbformat": 4,
  "vscode": {
   "interpreter": {
    "hash": "f0772a89b7b7552231f8b4808588399a8029470ff763161a0caeccf5fec49431"
   }
  }
 },
 "nbformat": 4,
 "nbformat_minor": 2
}
